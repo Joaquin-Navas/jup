{
 "cells": [
  {
   "metadata": {},
   "cell_type": "markdown",
   "source": "<H1>Data Science Tools and Ecosystem</H1>",
   "id": "bd04829d6f95433d"
  },
  {
   "metadata": {},
   "cell_type": "markdown",
   "source": "In this notebook, Data Science Tools and Ecosystem are summarized.",
   "id": "26852bd01e0c0a82"
  },
  {
   "metadata": {},
   "cell_type": "markdown",
   "source": "Some of the popular languages that Data Scientists use are:",
   "id": "723d0fbe1ab5ff2e"
  },
  {
   "cell_type": "code",
   "id": "initial_id",
   "metadata": {
    "collapsed": true,
    "ExecuteTime": {
     "end_time": "2024-09-17T12:35:24.150732Z",
     "start_time": "2024-09-17T12:35:24.139735Z"
    }
   },
   "source": "numbered = ['Python', 'R', 'SQL']",
   "outputs": [],
   "execution_count": 3
  },
  {
   "metadata": {},
   "cell_type": "markdown",
   "source": "Some of the commonly used libraries used by Data Scientists include:",
   "id": "8f15c1183d921208"
  },
  {
   "metadata": {
    "ExecuteTime": {
     "end_time": "2024-09-17T12:35:24.166734Z",
     "start_time": "2024-09-17T12:35:24.154735Z"
    }
   },
   "cell_type": "code",
   "source": "libraries = ['pandas', 'numpy', 'matplotlib', 'seaborn']",
   "id": "a7e278f8fe35464c",
   "outputs": [],
   "execution_count": 4
  },
  {
   "metadata": {},
   "cell_type": "markdown",
   "source": [
    "| Data Science Tools |\n",
    "|--------------------|\n",
    "| Jupyter Notebook   |\n",
    "| RStudio            |\n",
    "| Apache Zeppelin    |\n"
   ],
   "id": "2523c46ace093bc9"
  },
  {
   "metadata": {},
   "cell_type": "markdown",
   "source": "<H3>Below are a few examples of evaluating arithmetic expressions in Python</H3>",
   "id": "b18cc6476e8c9508"
  },
  {
   "metadata": {
    "ExecuteTime": {
     "end_time": "2024-09-17T12:35:24.198734Z",
     "start_time": "2024-09-17T12:35:24.179738Z"
    }
   },
   "cell_type": "code",
   "source": [
    "# This a simple arithmetic expression to mutiply then add integers\n",
    "(3*4)+5"
   ],
   "id": "8f6c8c6edd2399eb",
   "outputs": [
    {
     "data": {
      "text/plain": [
       "17"
      ]
     },
     "execution_count": 5,
     "metadata": {},
     "output_type": "execute_result"
    }
   ],
   "execution_count": 5
  },
  {
   "metadata": {
    "ExecuteTime": {
     "end_time": "2024-09-17T12:36:26.502652Z",
     "start_time": "2024-09-17T12:36:26.481653Z"
    }
   },
   "cell_type": "code",
   "source": [
    "# This will convert 200 minutes to hours by diving by 60\n",
    "200 / 60"
   ],
   "id": "8c0085e9116e77e4",
   "outputs": [
    {
     "data": {
      "text/plain": [
       "3.3333333333333335"
      ]
     },
     "execution_count": 6,
     "metadata": {},
     "output_type": "execute_result"
    }
   ],
   "execution_count": 6
  },
  {
   "metadata": {},
   "cell_type": "markdown",
   "source": [
    "<b>Objectives:</b>\n",
    "\n",
    "·R\n",
    "\n",
    "·Jupyter Notebook\n",
    "\n",
    "·Python\n"
   ],
   "id": "844dedc68d6dc63b"
  },
  {
   "metadata": {},
   "cell_type": "markdown",
   "source": [
    "<H2>Author</H2>\n",
    "Joaquin"
   ],
   "id": "a644059928450efc"
  },
  {
   "metadata": {},
   "cell_type": "markdown",
   "source": "",
   "id": "a123e212168963b8"
  },
  {
   "metadata": {},
   "cell_type": "markdown",
   "source": "",
   "id": "5c743bc1412ee6f8"
  }
 ],
 "metadata": {
  "kernelspec": {
   "display_name": "Python 3",
   "language": "python",
   "name": "python3"
  },
  "language_info": {
   "codemirror_mode": {
    "name": "ipython",
    "version": 2
   },
   "file_extension": ".py",
   "mimetype": "text/x-python",
   "name": "python",
   "nbconvert_exporter": "python",
   "pygments_lexer": "ipython2",
   "version": "2.7.6"
  }
 },
 "nbformat": 4,
 "nbformat_minor": 5
}
